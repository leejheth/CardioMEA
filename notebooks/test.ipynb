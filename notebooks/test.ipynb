{
 "cells": [
  {
   "cell_type": "code",
   "execution_count": 2,
   "metadata": {},
   "outputs": [],
   "source": [
    "from kedro.io import DataCatalog\n",
    "from kedro.extras.datasets.pandas import CSVDataSet\n",
    "import h5py\n",
    "import glob\n",
    "import pandas as pd\n",
    "import numpy as np"
   ]
  },
  {
   "cell_type": "code",
   "execution_count": 6,
   "metadata": {},
   "outputs": [
    {
     "data": {
      "text/html": [
       "<div>\n",
       "<style scoped>\n",
       "    .dataframe tbody tr th:only-of-type {\n",
       "        vertical-align: middle;\n",
       "    }\n",
       "\n",
       "    .dataframe tbody tr th {\n",
       "        vertical-align: top;\n",
       "    }\n",
       "\n",
       "    .dataframe thead th {\n",
       "        text-align: right;\n",
       "    }\n",
       "</style>\n",
       "<table border=\"1\" class=\"dataframe\">\n",
       "  <thead>\n",
       "    <tr style=\"text-align: right;\">\n",
       "      <th></th>\n",
       "      <th>cell_line</th>\n",
       "      <th>compound</th>\n",
       "      <th>file_path</th>\n",
       "      <th>note</th>\n",
       "    </tr>\n",
       "  </thead>\n",
       "  <tbody>\n",
       "    <tr>\n",
       "      <th>0</th>\n",
       "      <td>D5</td>\n",
       "      <td>NaN</td>\n",
       "      <td>210315/D5/2599</td>\n",
       "      <td>NaN</td>\n",
       "    </tr>\n",
       "    <tr>\n",
       "      <th>1</th>\n",
       "      <td>PKP2-KO</td>\n",
       "      <td>NaN</td>\n",
       "      <td>210802/KO</td>\n",
       "      <td>NaN</td>\n",
       "    </tr>\n",
       "  </tbody>\n",
       "</table>\n",
       "</div>"
      ],
      "text/plain": [
       "  cell_line  compound       file_path  note\n",
       "0        D5       NaN  210315/D5/2599   NaN\n",
       "1   PKP2-KO       NaN       210802/KO   NaN"
      ]
     },
     "execution_count": 6,
     "metadata": {},
     "output_type": "execute_result"
    }
   ],
   "source": [
    "data_catalog = CSVDataSet(filepath=\"../data/01_raw/catalog.csv\",\n",
    "                        load_args={\"sep\": ';'})\n",
    "io = DataCatalog(data_sets={'data_catalog': data_catalog})\n",
    "\n",
    "df = io.load(\"data_catalog\")\n",
    "df"
   ]
  },
  {
   "cell_type": "code",
   "execution_count": 7,
   "metadata": {},
   "outputs": [
    {
     "data": {
      "text/plain": [
       "'210315/D5/2599'"
      ]
     },
     "execution_count": 7,
     "metadata": {},
     "output_type": "execute_result"
    }
   ],
   "source": [
    "df.loc[0,'file_path']"
   ]
  },
  {
   "cell_type": "code",
   "execution_count": 16,
   "metadata": {},
   "outputs": [
    {
     "data": {
      "text/html": [
       "<div>\n",
       "<style scoped>\n",
       "    .dataframe tbody tr th:only-of-type {\n",
       "        vertical-align: middle;\n",
       "    }\n",
       "\n",
       "    .dataframe tbody tr th {\n",
       "        vertical-align: top;\n",
       "    }\n",
       "\n",
       "    .dataframe thead th {\n",
       "        text-align: right;\n",
       "    }\n",
       "</style>\n",
       "<table border=\"1\" class=\"dataframe\">\n",
       "  <thead>\n",
       "    <tr style=\"text-align: right;\">\n",
       "      <th></th>\n",
       "      <th>cell_line</th>\n",
       "      <th>compound</th>\n",
       "      <th>file_path</th>\n",
       "      <th>note</th>\n",
       "      <th>file_path_full</th>\n",
       "    </tr>\n",
       "  </thead>\n",
       "  <tbody>\n",
       "    <tr>\n",
       "      <th>0</th>\n",
       "      <td>D5</td>\n",
       "      <td>NaN</td>\n",
       "      <td>210315/D5/2599</td>\n",
       "      <td>NaN</td>\n",
       "      <td>/mnt/z/recordings/Mea1k/leejih/210315/D5/2599/...</td>\n",
       "    </tr>\n",
       "    <tr>\n",
       "      <th>1</th>\n",
       "      <td>D5</td>\n",
       "      <td>NaN</td>\n",
       "      <td>210315/D5/2599</td>\n",
       "      <td>NaN</td>\n",
       "      <td>/mnt/z/recordings/Mea1k/leejih/210315/D5/2599/...</td>\n",
       "    </tr>\n",
       "    <tr>\n",
       "      <th>2</th>\n",
       "      <td>D5</td>\n",
       "      <td>NaN</td>\n",
       "      <td>210315/D5/2599</td>\n",
       "      <td>NaN</td>\n",
       "      <td>/mnt/z/recordings/Mea1k/leejih/210315/D5/2599/...</td>\n",
       "    </tr>\n",
       "    <tr>\n",
       "      <th>3</th>\n",
       "      <td>D5</td>\n",
       "      <td>NaN</td>\n",
       "      <td>210315/D5/2599</td>\n",
       "      <td>NaN</td>\n",
       "      <td>/mnt/z/recordings/Mea1k/leejih/210315/D5/2599/...</td>\n",
       "    </tr>\n",
       "    <tr>\n",
       "      <th>4</th>\n",
       "      <td>D5</td>\n",
       "      <td>NaN</td>\n",
       "      <td>210315/D5/2599</td>\n",
       "      <td>NaN</td>\n",
       "      <td>/mnt/z/recordings/Mea1k/leejih/210315/D5/2599/...</td>\n",
       "    </tr>\n",
       "    <tr>\n",
       "      <th>5</th>\n",
       "      <td>D5</td>\n",
       "      <td>NaN</td>\n",
       "      <td>210315/D5/2599</td>\n",
       "      <td>NaN</td>\n",
       "      <td>/mnt/z/recordings/Mea1k/leejih/210315/D5/2599/...</td>\n",
       "    </tr>\n",
       "    <tr>\n",
       "      <th>6</th>\n",
       "      <td>PKP2-WT</td>\n",
       "      <td>NaN</td>\n",
       "      <td>220908/WT</td>\n",
       "      <td>NaN</td>\n",
       "      <td>/mnt/z/recordings/Mea1k/leejih/220908/WT/3994....</td>\n",
       "    </tr>\n",
       "    <tr>\n",
       "      <th>7</th>\n",
       "      <td>PKP2-WT</td>\n",
       "      <td>NaN</td>\n",
       "      <td>220908/WT</td>\n",
       "      <td>NaN</td>\n",
       "      <td>/mnt/z/recordings/Mea1k/leejih/220908/WT/3997....</td>\n",
       "    </tr>\n",
       "    <tr>\n",
       "      <th>8</th>\n",
       "      <td>PKP2-WT</td>\n",
       "      <td>NaN</td>\n",
       "      <td>220908/WT</td>\n",
       "      <td>NaN</td>\n",
       "      <td>/mnt/z/recordings/Mea1k/leejih/220908/WT/4002....</td>\n",
       "    </tr>\n",
       "    <tr>\n",
       "      <th>9</th>\n",
       "      <td>PKP2-WT</td>\n",
       "      <td>NaN</td>\n",
       "      <td>220908/WT</td>\n",
       "      <td>NaN</td>\n",
       "      <td>/mnt/z/recordings/Mea1k/leejih/220908/WT/4003....</td>\n",
       "    </tr>\n",
       "    <tr>\n",
       "      <th>10</th>\n",
       "      <td>PKP2-WT</td>\n",
       "      <td>NaN</td>\n",
       "      <td>220908/WT</td>\n",
       "      <td>NaN</td>\n",
       "      <td>/mnt/z/recordings/Mea1k/leejih/220908/WT/4004....</td>\n",
       "    </tr>\n",
       "    <tr>\n",
       "      <th>11</th>\n",
       "      <td>PKP2-WT</td>\n",
       "      <td>NaN</td>\n",
       "      <td>220908/WT</td>\n",
       "      <td>NaN</td>\n",
       "      <td>/mnt/z/recordings/Mea1k/leejih/220908/WT/4011....</td>\n",
       "    </tr>\n",
       "    <tr>\n",
       "      <th>12</th>\n",
       "      <td>PKP2-WT</td>\n",
       "      <td>NaN</td>\n",
       "      <td>220908/WT</td>\n",
       "      <td>NaN</td>\n",
       "      <td>/mnt/z/recordings/Mea1k/leejih/220908/WT/4013....</td>\n",
       "    </tr>\n",
       "    <tr>\n",
       "      <th>13</th>\n",
       "      <td>PKP2-WT</td>\n",
       "      <td>NaN</td>\n",
       "      <td>220908/WT</td>\n",
       "      <td>NaN</td>\n",
       "      <td>/mnt/z/recordings/Mea1k/leejih/220908/WT/4021....</td>\n",
       "    </tr>\n",
       "  </tbody>\n",
       "</table>\n",
       "</div>"
      ],
      "text/plain": [
       "   cell_line  compound       file_path  note  \\\n",
       "0         D5       NaN  210315/D5/2599   NaN   \n",
       "1         D5       NaN  210315/D5/2599   NaN   \n",
       "2         D5       NaN  210315/D5/2599   NaN   \n",
       "3         D5       NaN  210315/D5/2599   NaN   \n",
       "4         D5       NaN  210315/D5/2599   NaN   \n",
       "5         D5       NaN  210315/D5/2599   NaN   \n",
       "6    PKP2-WT       NaN       220908/WT   NaN   \n",
       "7    PKP2-WT       NaN       220908/WT   NaN   \n",
       "8    PKP2-WT       NaN       220908/WT   NaN   \n",
       "9    PKP2-WT       NaN       220908/WT   NaN   \n",
       "10   PKP2-WT       NaN       220908/WT   NaN   \n",
       "11   PKP2-WT       NaN       220908/WT   NaN   \n",
       "12   PKP2-WT       NaN       220908/WT   NaN   \n",
       "13   PKP2-WT       NaN       220908/WT   NaN   \n",
       "\n",
       "                                       file_path_full  \n",
       "0   /mnt/z/recordings/Mea1k/leejih/210315/D5/2599/...  \n",
       "1   /mnt/z/recordings/Mea1k/leejih/210315/D5/2599/...  \n",
       "2   /mnt/z/recordings/Mea1k/leejih/210315/D5/2599/...  \n",
       "3   /mnt/z/recordings/Mea1k/leejih/210315/D5/2599/...  \n",
       "4   /mnt/z/recordings/Mea1k/leejih/210315/D5/2599/...  \n",
       "5   /mnt/z/recordings/Mea1k/leejih/210315/D5/2599/...  \n",
       "6   /mnt/z/recordings/Mea1k/leejih/220908/WT/3994....  \n",
       "7   /mnt/z/recordings/Mea1k/leejih/220908/WT/3997....  \n",
       "8   /mnt/z/recordings/Mea1k/leejih/220908/WT/4002....  \n",
       "9   /mnt/z/recordings/Mea1k/leejih/220908/WT/4003....  \n",
       "10  /mnt/z/recordings/Mea1k/leejih/220908/WT/4004....  \n",
       "11  /mnt/z/recordings/Mea1k/leejih/220908/WT/4011....  \n",
       "12  /mnt/z/recordings/Mea1k/leejih/220908/WT/4013....  \n",
       "13  /mnt/z/recordings/Mea1k/leejih/220908/WT/4021....  "
      ]
     },
     "execution_count": 16,
     "metadata": {},
     "output_type": "execute_result"
    }
   ],
   "source": [
    "# list all files in the directory\n",
    "df2 = pd.DataFrame(columns=df.columns.to_list() + ['file_path_full'])\n",
    "base_dir = \"/mnt/z/recordings/Mea1k/leejih/\"\n",
    "\n",
    "for i in range(2):#len(df)):\n",
    "    rec_files = glob.glob(base_dir+df.loc[i,'file_path']+'/*.h5')\n",
    "    try:\n",
    "        tmp = pd.concat([df.loc[[i]]]*len(rec_files), ignore_index=True)\n",
    "        tmp[\"file_path_full\"] = rec_files\n",
    "        df2 = df2.merge(tmp, how='outer')\n",
    "    except Exception as e:\n",
    "        print(e)\n",
    "df2"
   ]
  },
  {
   "cell_type": "code",
   "execution_count": 15,
   "metadata": {},
   "outputs": [
    {
     "name": "stdout",
     "output_type": "stream",
     "text": [
      "No objects to concatenate\n"
     ]
    }
   ],
   "source": [
    "base_dir = \"/mnt/z/recordings/Mea1k/leejih/\"\n",
    "rec_files = glob.glob(base_dir+df.loc[2,'file_path']+'/*.h5')\n",
    "rec_files\n",
    "try:\n",
    "    tmp = pd.concat([df.loc[[0]]]*len(rec_files), ignore_index=True)\n",
    "    tmp[\"file_path_full\"] = rec_files\n",
    "    tmp\n",
    "except Exception as e:\n",
    "    print(e)"
   ]
  },
  {
   "cell_type": "code",
   "execution_count": 1,
   "metadata": {},
   "outputs": [],
   "source": [
    "# Write a yaml file\n",
    "import yaml\n",
    "\n",
    "data = dict(n_files = 5)\n",
    "\n",
    "def write_yaml(data):\n",
    "    \"\"\"A function to write YAML file.\"\"\"\n",
    "    with open('toyaml.yml', 'w') as f:\n",
    "        yaml.dump(data, f)\n",
    "\n",
    "write_yaml(data)"
   ]
  },
  {
   "cell_type": "code",
   "execution_count": 3,
   "metadata": {},
   "outputs": [],
   "source": [
    "filepath = \"../data/01_raw/highamp.raw.h5\"\n",
    "\n",
    "obj = h5py.File(filepath, mode='r')\n",
    "lsb = obj['settings']['lsb'][0] * 1e6\n",
    "\n",
    "gain = (obj['settings']['gain'][0]).astype(int)\n",
    "if 'lsb' in obj['settings']:\n",
    "    lsb = obj['settings']['lsb'][0] * 1e6\n",
    "else:\n",
    "    lsb = 3.3 / (1024 * gain) * 1e6\n",
    "\n",
    "mapping = obj.get('mapping')\n",
    "channels = np.array(mapping['channel'])\n",
    "electrodes = np.array(mapping['electrode'])\n",
    "\n",
    "# remove unused channels\n",
    "routed_idxs = np.where(electrodes > -1)[0]\n",
    "\n",
    "channel_ids = list(channels[routed_idxs])\n",
    "electrode_ids = list(electrodes[routed_idxs])\n",
    "num_channels = len(electrode_ids)\n",
    "num_frames = len(obj.get('sig')[0,:])\n",
    "x_locs = mapping['x']\n",
    "y_locs = mapping['y']"
   ]
  },
  {
   "cell_type": "code",
   "execution_count": 17,
   "metadata": {},
   "outputs": [],
   "source": [
    "start_frame = 0\n",
    "length = num_frames\n",
    "signals = (obj.get('sig')[np.array(channel_ids),0:min(int(10.0),int(5.0))] * lsb).astype('float32') "
   ]
  },
  {
   "cell_type": "code",
   "execution_count": 1,
   "metadata": {},
   "outputs": [],
   "source": [
    "from joblib import Parallel, delayed"
   ]
  },
  {
   "cell_type": "code",
   "execution_count": 22,
   "metadata": {},
   "outputs": [
    {
     "name": "stdout",
     "output_type": "stream",
     "text": [
      "[(0, 0), (10, 1), (20, 4), (30, 9), (40, 16), (50, 25), (60, 36), (70, 49)]\n"
     ]
    }
   ],
   "source": [
    "def tes(x):\n",
    "    return x*10, x**2\n",
    "\n",
    "res = Parallel(n_jobs=4, backend='multiprocessing')(delayed(tes)(i) for i in range(8))\n",
    "print(res)"
   ]
  }
 ],
 "metadata": {
  "kernelspec": {
   "display_name": "cardio-env",
   "language": "python",
   "name": "python3"
  },
  "language_info": {
   "codemirror_mode": {
    "name": "ipython",
    "version": 3
   },
   "file_extension": ".py",
   "mimetype": "text/x-python",
   "name": "python",
   "nbconvert_exporter": "python",
   "pygments_lexer": "ipython3",
   "version": "3.9.16"
  },
  "orig_nbformat": 4
 },
 "nbformat": 4,
 "nbformat_minor": 2
}
