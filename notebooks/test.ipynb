{
 "cells": [
  {
   "cell_type": "code",
   "execution_count": 1,
   "metadata": {},
   "outputs": [],
   "source": [
    "from kedro.io import DataCatalog\n",
    "from kedro.extras.datasets.pandas import CSVDataSet\n",
    "import h5py\n",
    "import glob\n",
    "import pandas as pd"
   ]
  },
  {
   "cell_type": "code",
   "execution_count": 8,
   "metadata": {},
   "outputs": [
    {
     "data": {
      "text/html": [
       "<div>\n",
       "<style scoped>\n",
       "    .dataframe tbody tr th:only-of-type {\n",
       "        vertical-align: middle;\n",
       "    }\n",
       "\n",
       "    .dataframe tbody tr th {\n",
       "        vertical-align: top;\n",
       "    }\n",
       "\n",
       "    .dataframe thead th {\n",
       "        text-align: right;\n",
       "    }\n",
       "</style>\n",
       "<table border=\"1\" class=\"dataframe\">\n",
       "  <thead>\n",
       "    <tr style=\"text-align: right;\">\n",
       "      <th></th>\n",
       "      <th>cell_line</th>\n",
       "      <th>drug</th>\n",
       "      <th>file_path</th>\n",
       "      <th>note</th>\n",
       "    </tr>\n",
       "  </thead>\n",
       "  <tbody>\n",
       "    <tr>\n",
       "      <th>0</th>\n",
       "      <td>D5</td>\n",
       "      <td>NaN</td>\n",
       "      <td>210310/D5/2301</td>\n",
       "      <td>NaN</td>\n",
       "    </tr>\n",
       "    <tr>\n",
       "      <th>1</th>\n",
       "      <td>PKP2-WT</td>\n",
       "      <td>NaN</td>\n",
       "      <td>220908/WT</td>\n",
       "      <td>NaN</td>\n",
       "    </tr>\n",
       "  </tbody>\n",
       "</table>\n",
       "</div>"
      ],
      "text/plain": [
       "  cell_line  drug       file_path  note\n",
       "0        D5   NaN  210310/D5/2301   NaN\n",
       "1   PKP2-WT   NaN       220908/WT   NaN"
      ]
     },
     "execution_count": 8,
     "metadata": {},
     "output_type": "execute_result"
    }
   ],
   "source": [
    "data_catalog = CSVDataSet(filepath=\"../data/01_raw/catalog.csv\",\n",
    "                        load_args={\"sep\": ';'})\n",
    "io = DataCatalog(data_sets={'data_catalog': data_catalog})\n",
    "\n",
    "df = io.load(\"data_catalog\")\n",
    "df"
   ]
  },
  {
   "cell_type": "code",
   "execution_count": 3,
   "metadata": {},
   "outputs": [],
   "source": [
    "path = df.loc[0,'file_path']\n",
    "obj = h5py.File(r'/mnt/z/recordings/Mea1k/leejih/210310/D5/2301/highamp.raw.h5','r')"
   ]
  },
  {
   "cell_type": "code",
   "execution_count": 7,
   "metadata": {},
   "outputs": [
    {
     "name": "stdout",
     "output_type": "stream",
     "text": [
      "512\n"
     ]
    },
    {
     "ename": "",
     "evalue": "",
     "output_type": "error",
     "traceback": [
      "\u001b[1;31mCanceled future for execute_request message before replies were done"
     ]
    },
    {
     "ename": "",
     "evalue": "",
     "output_type": "error",
     "traceback": [
      "\u001b[1;31mThe Kernel crashed while executing code in the the current cell or a previous cell. Please review the code in the cell(s) to identify a possible cause of the failure. Click <a href='https://aka.ms/vscodeJupyterKernelCrash'>here</a> for more info. View Jupyter <a href='command:jupyter.viewOutput'>log</a> for further details."
     ]
    }
   ],
   "source": [
    "lsb = obj['settings']['lsb'][0] * 1e6\n",
    "signals = (obj['sig']*lsb).astype('float32') \n",
    "signals.shape"
   ]
  },
  {
   "cell_type": "code",
   "execution_count": null,
   "metadata": {},
   "outputs": [],
   "source": [
    "signals[0]"
   ]
  },
  {
   "cell_type": "code",
   "execution_count": null,
   "metadata": {},
   "outputs": [],
   "source": [
    "# list all files in the directory\n",
    "base_dir = \"/mnt/z/recordings/Mea1k/leejih/\"\n",
    "rec_files = glob.glob(base_dir+df.loc[0,'file_path']+\"/*.h5\")\n",
    "\n",
    "df2 = pd.DataFrame(columns=df.columns.to_list() + ['file_path_full'])\n",
    "base_dir = \"/mnt/z/recordings/Mea1k/leejih/\"\n",
    "\n",
    "for i in range(len(df)):\n",
    "    rec_files = glob.glob(base_dir+df.loc[i,'file_path']+'/*.h5')\n",
    "    tmp = pd.concat([df.loc[[i]]]*len(rec_files), ignore_index=True)\n",
    "    tmp[\"file_path_full\"] = rec_files\n",
    "    df2 = df2.merge(tmp, how='outer')\n",
    "df2"
   ]
  },
  {
   "cell_type": "code",
   "execution_count": 62,
   "metadata": {},
   "outputs": [],
   "source": [
    "# Write a yaml file\n",
    "import yaml\n",
    "\n",
    "data = dict(n_files = 5)\n",
    "\n",
    "def write_yaml(data):\n",
    "    \"\"\"A function to write YAML file.\"\"\"\n",
    "    with open('toyaml.yml', 'w') as f:\n",
    "        yaml.dump(data, f)\n",
    "\n",
    "write_yaml(data)"
   ]
  }
 ],
 "metadata": {
  "kernelspec": {
   "display_name": "cardio-env",
   "language": "python",
   "name": "python3"
  },
  "language_info": {
   "codemirror_mode": {
    "name": "ipython",
    "version": 3
   },
   "file_extension": ".py",
   "mimetype": "text/x-python",
   "name": "python",
   "nbconvert_exporter": "python",
   "pygments_lexer": "ipython3",
   "version": "3.9.16"
  },
  "orig_nbformat": 4
 },
 "nbformat": 4,
 "nbformat_minor": 2
}
