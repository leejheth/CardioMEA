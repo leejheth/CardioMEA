{
 "cells": [
  {
   "cell_type": "code",
   "execution_count": 105,
   "metadata": {},
   "outputs": [],
   "source": [
    "%matplotlib widget\n",
    "from kedro.io import DataCatalog\n",
    "from kedro.extras.datasets.pandas import CSVDataSet\n",
    "import h5py\n",
    "import glob\n",
    "import pandas as pd\n",
    "import numpy as np\n",
    "import matplotlib.pyplot as plt\n",
    "from scipy import signal\n",
    "from scipy.signal import find_peaks\n",
    "import hrvanalysis as hrva\n",
    "from joblib import Parallel, delayed\n",
    "import statistics as st\n",
    "import sympy as sym\n",
    "from sklearn.metrics import mean_squared_error"
   ]
  },
  {
   "cell_type": "code",
   "execution_count": 6,
   "metadata": {},
   "outputs": [
    {
     "data": {
      "text/html": [
       "<div>\n",
       "<style scoped>\n",
       "    .dataframe tbody tr th:only-of-type {\n",
       "        vertical-align: middle;\n",
       "    }\n",
       "\n",
       "    .dataframe tbody tr th {\n",
       "        vertical-align: top;\n",
       "    }\n",
       "\n",
       "    .dataframe thead th {\n",
       "        text-align: right;\n",
       "    }\n",
       "</style>\n",
       "<table border=\"1\" class=\"dataframe\">\n",
       "  <thead>\n",
       "    <tr style=\"text-align: right;\">\n",
       "      <th></th>\n",
       "      <th>cell_line</th>\n",
       "      <th>compound</th>\n",
       "      <th>file_path</th>\n",
       "      <th>note</th>\n",
       "    </tr>\n",
       "  </thead>\n",
       "  <tbody>\n",
       "    <tr>\n",
       "      <th>0</th>\n",
       "      <td>D5</td>\n",
       "      <td>NaN</td>\n",
       "      <td>210315/D5/2599</td>\n",
       "      <td>NaN</td>\n",
       "    </tr>\n",
       "    <tr>\n",
       "      <th>1</th>\n",
       "      <td>PKP2-KO</td>\n",
       "      <td>NaN</td>\n",
       "      <td>210802/KO</td>\n",
       "      <td>NaN</td>\n",
       "    </tr>\n",
       "  </tbody>\n",
       "</table>\n",
       "</div>"
      ],
      "text/plain": [
       "  cell_line  compound       file_path  note\n",
       "0        D5       NaN  210315/D5/2599   NaN\n",
       "1   PKP2-KO       NaN       210802/KO   NaN"
      ]
     },
     "execution_count": 6,
     "metadata": {},
     "output_type": "execute_result"
    }
   ],
   "source": [
    "data_catalog = CSVDataSet(filepath=\"../data/01_raw/catalog.csv\",\n",
    "                        load_args={\"sep\": ';'})\n",
    "io = DataCatalog(data_sets={'data_catalog': data_catalog})\n",
    "\n",
    "df = io.load(\"data_catalog\")\n",
    "df"
   ]
  },
  {
   "cell_type": "code",
   "execution_count": 7,
   "metadata": {},
   "outputs": [
    {
     "data": {
      "text/plain": [
       "'210315/D5/2599'"
      ]
     },
     "execution_count": 7,
     "metadata": {},
     "output_type": "execute_result"
    }
   ],
   "source": [
    "df.loc[0,'file_path']"
   ]
  },
  {
   "cell_type": "code",
   "execution_count": 16,
   "metadata": {},
   "outputs": [
    {
     "data": {
      "text/html": [
       "<div>\n",
       "<style scoped>\n",
       "    .dataframe tbody tr th:only-of-type {\n",
       "        vertical-align: middle;\n",
       "    }\n",
       "\n",
       "    .dataframe tbody tr th {\n",
       "        vertical-align: top;\n",
       "    }\n",
       "\n",
       "    .dataframe thead th {\n",
       "        text-align: right;\n",
       "    }\n",
       "</style>\n",
       "<table border=\"1\" class=\"dataframe\">\n",
       "  <thead>\n",
       "    <tr style=\"text-align: right;\">\n",
       "      <th></th>\n",
       "      <th>cell_line</th>\n",
       "      <th>compound</th>\n",
       "      <th>file_path</th>\n",
       "      <th>note</th>\n",
       "      <th>file_path_full</th>\n",
       "    </tr>\n",
       "  </thead>\n",
       "  <tbody>\n",
       "    <tr>\n",
       "      <th>0</th>\n",
       "      <td>D5</td>\n",
       "      <td>NaN</td>\n",
       "      <td>210315/D5/2599</td>\n",
       "      <td>NaN</td>\n",
       "      <td>/mnt/z/recordings/Mea1k/leejih/210315/D5/2599/...</td>\n",
       "    </tr>\n",
       "    <tr>\n",
       "      <th>1</th>\n",
       "      <td>D5</td>\n",
       "      <td>NaN</td>\n",
       "      <td>210315/D5/2599</td>\n",
       "      <td>NaN</td>\n",
       "      <td>/mnt/z/recordings/Mea1k/leejih/210315/D5/2599/...</td>\n",
       "    </tr>\n",
       "    <tr>\n",
       "      <th>2</th>\n",
       "      <td>D5</td>\n",
       "      <td>NaN</td>\n",
       "      <td>210315/D5/2599</td>\n",
       "      <td>NaN</td>\n",
       "      <td>/mnt/z/recordings/Mea1k/leejih/210315/D5/2599/...</td>\n",
       "    </tr>\n",
       "    <tr>\n",
       "      <th>3</th>\n",
       "      <td>D5</td>\n",
       "      <td>NaN</td>\n",
       "      <td>210315/D5/2599</td>\n",
       "      <td>NaN</td>\n",
       "      <td>/mnt/z/recordings/Mea1k/leejih/210315/D5/2599/...</td>\n",
       "    </tr>\n",
       "    <tr>\n",
       "      <th>4</th>\n",
       "      <td>D5</td>\n",
       "      <td>NaN</td>\n",
       "      <td>210315/D5/2599</td>\n",
       "      <td>NaN</td>\n",
       "      <td>/mnt/z/recordings/Mea1k/leejih/210315/D5/2599/...</td>\n",
       "    </tr>\n",
       "    <tr>\n",
       "      <th>5</th>\n",
       "      <td>D5</td>\n",
       "      <td>NaN</td>\n",
       "      <td>210315/D5/2599</td>\n",
       "      <td>NaN</td>\n",
       "      <td>/mnt/z/recordings/Mea1k/leejih/210315/D5/2599/...</td>\n",
       "    </tr>\n",
       "    <tr>\n",
       "      <th>6</th>\n",
       "      <td>PKP2-WT</td>\n",
       "      <td>NaN</td>\n",
       "      <td>220908/WT</td>\n",
       "      <td>NaN</td>\n",
       "      <td>/mnt/z/recordings/Mea1k/leejih/220908/WT/3994....</td>\n",
       "    </tr>\n",
       "    <tr>\n",
       "      <th>7</th>\n",
       "      <td>PKP2-WT</td>\n",
       "      <td>NaN</td>\n",
       "      <td>220908/WT</td>\n",
       "      <td>NaN</td>\n",
       "      <td>/mnt/z/recordings/Mea1k/leejih/220908/WT/3997....</td>\n",
       "    </tr>\n",
       "    <tr>\n",
       "      <th>8</th>\n",
       "      <td>PKP2-WT</td>\n",
       "      <td>NaN</td>\n",
       "      <td>220908/WT</td>\n",
       "      <td>NaN</td>\n",
       "      <td>/mnt/z/recordings/Mea1k/leejih/220908/WT/4002....</td>\n",
       "    </tr>\n",
       "    <tr>\n",
       "      <th>9</th>\n",
       "      <td>PKP2-WT</td>\n",
       "      <td>NaN</td>\n",
       "      <td>220908/WT</td>\n",
       "      <td>NaN</td>\n",
       "      <td>/mnt/z/recordings/Mea1k/leejih/220908/WT/4003....</td>\n",
       "    </tr>\n",
       "    <tr>\n",
       "      <th>10</th>\n",
       "      <td>PKP2-WT</td>\n",
       "      <td>NaN</td>\n",
       "      <td>220908/WT</td>\n",
       "      <td>NaN</td>\n",
       "      <td>/mnt/z/recordings/Mea1k/leejih/220908/WT/4004....</td>\n",
       "    </tr>\n",
       "    <tr>\n",
       "      <th>11</th>\n",
       "      <td>PKP2-WT</td>\n",
       "      <td>NaN</td>\n",
       "      <td>220908/WT</td>\n",
       "      <td>NaN</td>\n",
       "      <td>/mnt/z/recordings/Mea1k/leejih/220908/WT/4011....</td>\n",
       "    </tr>\n",
       "    <tr>\n",
       "      <th>12</th>\n",
       "      <td>PKP2-WT</td>\n",
       "      <td>NaN</td>\n",
       "      <td>220908/WT</td>\n",
       "      <td>NaN</td>\n",
       "      <td>/mnt/z/recordings/Mea1k/leejih/220908/WT/4013....</td>\n",
       "    </tr>\n",
       "    <tr>\n",
       "      <th>13</th>\n",
       "      <td>PKP2-WT</td>\n",
       "      <td>NaN</td>\n",
       "      <td>220908/WT</td>\n",
       "      <td>NaN</td>\n",
       "      <td>/mnt/z/recordings/Mea1k/leejih/220908/WT/4021....</td>\n",
       "    </tr>\n",
       "  </tbody>\n",
       "</table>\n",
       "</div>"
      ],
      "text/plain": [
       "   cell_line  compound       file_path  note  \\\n",
       "0         D5       NaN  210315/D5/2599   NaN   \n",
       "1         D5       NaN  210315/D5/2599   NaN   \n",
       "2         D5       NaN  210315/D5/2599   NaN   \n",
       "3         D5       NaN  210315/D5/2599   NaN   \n",
       "4         D5       NaN  210315/D5/2599   NaN   \n",
       "5         D5       NaN  210315/D5/2599   NaN   \n",
       "6    PKP2-WT       NaN       220908/WT   NaN   \n",
       "7    PKP2-WT       NaN       220908/WT   NaN   \n",
       "8    PKP2-WT       NaN       220908/WT   NaN   \n",
       "9    PKP2-WT       NaN       220908/WT   NaN   \n",
       "10   PKP2-WT       NaN       220908/WT   NaN   \n",
       "11   PKP2-WT       NaN       220908/WT   NaN   \n",
       "12   PKP2-WT       NaN       220908/WT   NaN   \n",
       "13   PKP2-WT       NaN       220908/WT   NaN   \n",
       "\n",
       "                                       file_path_full  \n",
       "0   /mnt/z/recordings/Mea1k/leejih/210315/D5/2599/...  \n",
       "1   /mnt/z/recordings/Mea1k/leejih/210315/D5/2599/...  \n",
       "2   /mnt/z/recordings/Mea1k/leejih/210315/D5/2599/...  \n",
       "3   /mnt/z/recordings/Mea1k/leejih/210315/D5/2599/...  \n",
       "4   /mnt/z/recordings/Mea1k/leejih/210315/D5/2599/...  \n",
       "5   /mnt/z/recordings/Mea1k/leejih/210315/D5/2599/...  \n",
       "6   /mnt/z/recordings/Mea1k/leejih/220908/WT/3994....  \n",
       "7   /mnt/z/recordings/Mea1k/leejih/220908/WT/3997....  \n",
       "8   /mnt/z/recordings/Mea1k/leejih/220908/WT/4002....  \n",
       "9   /mnt/z/recordings/Mea1k/leejih/220908/WT/4003....  \n",
       "10  /mnt/z/recordings/Mea1k/leejih/220908/WT/4004....  \n",
       "11  /mnt/z/recordings/Mea1k/leejih/220908/WT/4011....  \n",
       "12  /mnt/z/recordings/Mea1k/leejih/220908/WT/4013....  \n",
       "13  /mnt/z/recordings/Mea1k/leejih/220908/WT/4021....  "
      ]
     },
     "execution_count": 16,
     "metadata": {},
     "output_type": "execute_result"
    }
   ],
   "source": [
    "# list all files in the directory\n",
    "df2 = pd.DataFrame(columns=df.columns.to_list() + ['file_path_full'])\n",
    "base_dir = \"/mnt/z/recordings/Mea1k/leejih/\"\n",
    "\n",
    "for i in range(2):#len(df)):\n",
    "    rec_files = glob.glob(base_dir+df.loc[i,'file_path']+'/*.h5')\n",
    "    try:\n",
    "        tmp = pd.concat([df.loc[[i]]]*len(rec_files), ignore_index=True)\n",
    "        tmp[\"file_path_full\"] = rec_files\n",
    "        df2 = df2.merge(tmp, how='outer')\n",
    "    except Exception as e:\n",
    "        print(e)\n",
    "df2"
   ]
  },
  {
   "cell_type": "code",
   "execution_count": 15,
   "metadata": {},
   "outputs": [
    {
     "name": "stdout",
     "output_type": "stream",
     "text": [
      "No objects to concatenate\n"
     ]
    }
   ],
   "source": [
    "base_dir = \"/mnt/z/recordings/Mea1k/leejih/\"\n",
    "rec_files = glob.glob(base_dir+df.loc[2,'file_path']+'/*.h5')\n",
    "rec_files\n",
    "try:\n",
    "    tmp = pd.concat([df.loc[[0]]]*len(rec_files), ignore_index=True)\n",
    "    tmp[\"file_path_full\"] = rec_files\n",
    "    tmp\n",
    "except Exception as e:\n",
    "    print(e)"
   ]
  },
  {
   "cell_type": "code",
   "execution_count": 70,
   "metadata": {},
   "outputs": [],
   "source": [
    "filepath = \"../data/01_raw/overall1.raw.h5\"\n",
    "\n",
    "obj = h5py.File(filepath, mode='r')\n",
    "lsb = obj['settings']['lsb'][0] * 1e6\n",
    "\n",
    "gain = (obj['settings']['gain'][0]).astype(int)\n",
    "if 'lsb' in obj['settings']:\n",
    "    lsb = obj['settings']['lsb'][0] * 1e6\n",
    "else:\n",
    "    lsb = 3.3 / (1024 * gain) * 1e6\n",
    "\n",
    "mapping = obj.get('mapping')\n",
    "channels = np.array(mapping['channel'])\n",
    "electrodes = np.array(mapping['electrode'])\n",
    "\n",
    "# remove unused channels\n",
    "routed_idxs = np.where(electrodes > -1)[0]\n",
    "\n",
    "channel_ids = list(channels[routed_idxs])\n",
    "electrode_ids = list(electrodes[routed_idxs])\n",
    "num_channels = len(electrode_ids)\n",
    "num_frames = len(obj.get('sig')[0,:])\n",
    "x_locs = list(np.array(mapping['x'][routed_idxs]))\n",
    "y_locs = list(np.array(mapping['y'][routed_idxs]))"
   ]
  },
  {
   "cell_type": "code",
   "execution_count": 34,
   "metadata": {},
   "outputs": [],
   "source": [
    "start_frame = 0\n",
    "length = 100000\n",
    "signals = (obj.get('sig')[np.array(channel_ids),start_frame:start_frame+length] * lsb).astype('float32') "
   ]
  },
  {
   "cell_type": "code",
   "execution_count": 35,
   "metadata": {},
   "outputs": [
    {
     "name": "stderr",
     "output_type": "stream",
     "text": [
      "/home/leej/miniconda3/envs/cardio-env/lib/python3.9/site-packages/ipywidgets/widgets/widget.py:501: DeprecationWarning: Passing unrecognized arguments to super(Toolbar).__init__().\n",
      "__init__() missing 1 required positional argument: 'canvas'\n",
      "This is deprecated in traitlets 4.2.This error will be raised in a future release of traitlets.\n",
      "  super().__init__(**kwargs)\n"
     ]
    },
    {
     "data": {
      "text/plain": [
       "[<matplotlib.lines.Line2D at 0x7f50417100a0>]"
      ]
     },
     "execution_count": 35,
     "metadata": {},
     "output_type": "execute_result"
    },
    {
     "data": {
      "application/vnd.jupyter.widget-view+json": {
       "model_id": "06c91507f2eb4e23ac5cdebd21f4e0d5",
       "version_major": 2,
       "version_minor": 0
      },
      "image/png": "[encoded data removed]",
      "text/html": [
       "\n",
       "            <div style=\"display: inline-block;\">\n",
       "                <div class=\"jupyter-widgets widget-label\" style=\"text-align: center;\">\n",
       "                    Figure\n",
       "                </div>\n",
       "                <img src='data:image/png;base64,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' width=640.0/>\n",
       "            </div>\n",
       "        "
      ],
      "text/plain": [
       "Canvas(toolbar=Toolbar(toolitems=[('Home', 'Reset original view', 'home', 'home'), ('Back', 'Back to previous …"
      ]
     },
     "metadata": {},
     "output_type": "display_data"
    }
   ],
   "source": [
    "b, a = signal.butter(3,[100*2/2e4,2000*2/2e4],btype='band')\n",
    "filt = signal.filtfilt(b, a, signals)\n",
    "\n",
    "ch =8\n",
    "fig, ax = plt.subplots()\n",
    "ax.plot(signals[ch]-signals[ch].mean())\n",
    "# ax.plot(abs(filt[ch]))"
   ]
  },
  {
   "cell_type": "code",
   "execution_count": 54,
   "metadata": {},
   "outputs": [],
   "source": [
    "def _peakseek(data, minpeakdist, minpeakh):\n",
    "    \"\"\"Find peaks in a 1D array.\"\"\"\n",
    "    locs = np.where((data[1:-1] >= data[0:-2]) & (data[1:-1] >= data[2:]))[0] + 1\n",
    "    \n",
    "    if minpeakh:\n",
    "        locs = locs[data[locs] > minpeakh]\n",
    "\n",
    "    if minpeakdist > 1:\n",
    "        while 1:\n",
    "            multi = (locs[1:] - locs[0:-1]) < minpeakdist\n",
    "            if not any(multi):\n",
    "                break\n",
    "            pks = data[locs]\n",
    "            all_pks = np.array([[pks[i] for i in range(len(multi)) if multi[i]], [pks[i+1] for i in range(len(multi)) if multi[i]]])\n",
    "            min_ind = np.argmin(all_pks,axis=0)\n",
    "\n",
    "            multi_x = np.where(multi)[0]\n",
    "            multi_xx = list(multi_x[min_ind==0]) + list(multi_x[min_ind==1] + 1)\n",
    "            locs = np.delete(list(locs), multi_xx)\n",
    "    pks = data[locs]\n",
    "    \n",
    "    return list(locs), pks\n",
    "\n",
    "def _R_timestamps(signal_single,mult_factor,min_peak_dist):\n",
    "    \"\"\"Identify R peaks in a single channel.\"\"\"\n",
    "    thr = mult_factor*np.std(signal_single)\n",
    "    r_locs, a = _peakseek(signal_single, minpeakdist=min_peak_dist, minpeakh=thr)\n",
    "\n",
    "    return len(r_locs), r_locs"
   ]
  },
  {
   "cell_type": "code",
   "execution_count": 38,
   "metadata": {},
   "outputs": [
    {
     "data": {
      "text/plain": [
       "array([32459, 71282])"
      ]
     },
     "execution_count": 38,
     "metadata": {},
     "output_type": "execute_result"
    }
   ],
   "source": [
    "mult_factor = 5.5\n",
    "min_peak_dist=4000\n",
    "b, a = signal.butter(3,[100*2/2e4,2000*2/2e4],btype='band')\n",
    "filtered = signal.filtfilt(b, a, signals) \n",
    "thr = mult_factor*np.std(filtered[0])\n",
    "r_locs, _ = _peakseek(filtered[0], minpeakdist=min_peak_dist, minpeakh=thr)\n",
    "r_locs"
   ]
  },
  {
   "cell_type": "code",
   "execution_count": 71,
   "metadata": {},
   "outputs": [],
   "source": [
    "channelIDs = [ch for ch in range(len(signals))]\n",
    "# Parallel processing using all available CPUs\n",
    "res = Parallel(n_jobs=1, backend='multiprocessing')([delayed(_R_timestamps)(filtered[ch],mult_factor,min_peak_dist) for ch in channelIDs])\n",
    "n_Rpeaks, r_timestamps = map(list,zip(*res))\n",
    "\n",
    "# identify synchronous beats\n",
    "sync_beats = st.mode(n_Rpeaks)\n",
    "# indices of channels where beats (R peaks) are synchronous\n",
    "ind_sync_channels = [ind for ind,peaks in enumerate(n_Rpeaks) if peaks==sync_beats]\n",
    "sync_timestamps = [r_timestamps[i] for i in ind_sync_channels]\n",
    "sync_channelIDs = [channelIDs[i] for i in ind_sync_channels]\n",
    "\n",
    "x_locs_updated = [x_locs[i] for i in ind_sync_channels]\n",
    "y_locs_updated = [y_locs[i] for i in ind_sync_channels]"
   ]
  },
  {
   "cell_type": "code",
   "execution_count": null,
   "metadata": {},
   "outputs": [],
   "source": [
    "ch=8\n",
    "signal_single = signals[ch]\n",
    "thr = mult_factor*np.std(filtered[ch])\n",
    "timestamps, _ = _peakseek(filtered[0], minpeakdist=min_peak_dist, minpeakh=thr)\n",
    "before_R = 1000\n",
    "after_R = 10000\n",
    "\n",
    "waves = [signal_single[peak_loc-before_R:peak_loc+after_R] for peak_loc in timestamps if (peak_loc-before_R)>0 and (peak_loc+after_R)<=len(signal_single)] \n",
    "result = list(np.mean(np.vstack(waves),axis=0))\n",
    "\n",
    "fig, ax = plt.subplots()\n",
    "ax.plot(result)"
   ]
  }
 ],
 "metadata": {
  "kernelspec": {
   "display_name": "cardio-env",
   "language": "python",
   "name": "python3"
  },
  "language_info": {
   "codemirror_mode": {
    "name": "ipython",
    "version": 3
   },
   "file_extension": ".py",
   "mimetype": "text/x-python",
   "name": "python",
   "nbconvert_exporter": "python",
   "pygments_lexer": "ipython3",
   "version": "3.9.16"
  },
  "orig_nbformat": 4
 },
 "nbformat": 4,
 "nbformat_minor": 2
}
